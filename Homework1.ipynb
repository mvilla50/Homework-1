{
 "cells": [
  {
   "cell_type": "code",
   "execution_count": 1,
   "id": "84eb0a11",
   "metadata": {},
   "outputs": [
    {
     "name": "stdout",
     "output_type": "stream",
     "text": [
      "<class 'list'>\n",
      "['silver', 'beige', 'blue', 'brown']\n"
     ]
    }
   ],
   "source": [
    "favorite_colors = [\"silver\", \"beige\", \"blue\", \"brown\"]\n",
    "print(type(favorite_colors))\n",
    "print(favorite_colors)"
   ]
  },
  {
   "cell_type": "code",
   "execution_count": 2,
   "id": "3d90a778",
   "metadata": {},
   "outputs": [
    {
     "name": "stdout",
     "output_type": "stream",
     "text": [
      "<class 'list'>\n",
      "[30, 33, 36, 39, 42, 45, 48, 51, 54, 57, 60]\n"
     ]
    }
   ],
   "source": [
    "nums = list(range(30, 63, 3))\n",
    "print (type(nums))\n",
    "print(nums)"
   ]
  },
  {
   "cell_type": "code",
   "execution_count": 3,
   "id": "0066b1c6",
   "metadata": {},
   "outputs": [
    {
     "name": "stdout",
     "output_type": "stream",
     "text": [
      "<class 'tuple'>\n",
      "(30, 33, 36, 39, 42, 45, 48, 51, 54, 57, 60)\n"
     ]
    }
   ],
   "source": [
    "tuple(nums)\n",
    "print(type(tuple(nums)))\n",
    "print(tuple(nums))"
   ]
  },
  {
   "cell_type": "code",
   "execution_count": 14,
   "id": "6af8f422",
   "metadata": {},
   "outputs": [
    {
     "name": "stdout",
     "output_type": "stream",
     "text": [
      "[0, 1, 2, 3, 4, 5]\n"
     ]
    }
   ],
   "source": [
    "list = []\n",
    "for i in range (6):\n",
    "    list.append(i)\n",
    "print(list)"
   ]
  },
  {
   "cell_type": "code",
   "execution_count": 15,
   "id": "3b491c03",
   "metadata": {},
   "outputs": [
    {
     "name": "stdout",
     "output_type": "stream",
     "text": [
      "[0, 1, 3, 4, 5]\n"
     ]
    }
   ],
   "source": [
    "del list [2]\n",
    "print (list)"
   ]
  },
  {
   "cell_type": "code",
   "execution_count": 16,
   "id": "8714178c",
   "metadata": {},
   "outputs": [
    {
     "name": "stdout",
     "output_type": "stream",
     "text": [
      "[0, 1, 2.0, 3, 4, 5]\n"
     ]
    }
   ],
   "source": [
    "list.insert(2,2.0)\n",
    "print (list)"
   ]
  },
  {
   "cell_type": "code",
   "execution_count": 17,
   "id": "6a9ca109",
   "metadata": {},
   "outputs": [
    {
     "name": "stdout",
     "output_type": "stream",
     "text": [
      "6\n",
      "5\n",
      "0\n"
     ]
    }
   ],
   "source": [
    "print(len(list))\n",
    "print(max(list))\n",
    "print(min(list))"
   ]
  },
  {
   "cell_type": "code",
   "execution_count": 27,
   "id": "43eac130",
   "metadata": {},
   "outputs": [
    {
     "name": "stdout",
     "output_type": "stream",
     "text": [
      "[1, 2, 3, 4, 5, 6, 7, 8, 9, 10]\n"
     ]
    }
   ],
   "source": [
    "last_list = []\n",
    "for i in range (1, 11, 1):\n",
    "    last_list.append(i)\n",
    "print (last_list)"
   ]
  },
  {
   "cell_type": "code",
   "execution_count": 28,
   "id": "99371e07",
   "metadata": {},
   "outputs": [
    {
     "data": {
      "text/plain": [
       "55"
      ]
     },
     "execution_count": 28,
     "metadata": {},
     "output_type": "execute_result"
    }
   ],
   "source": [
    "sum (last_list)"
   ]
  }
 ],
 "metadata": {
  "kernelspec": {
   "display_name": "Python 3",
   "language": "python",
   "name": "python3"
  },
  "language_info": {
   "codemirror_mode": {
    "name": "ipython",
    "version": 3
   },
   "file_extension": ".py",
   "mimetype": "text/x-python",
   "name": "python",
   "nbconvert_exporter": "python",
   "pygments_lexer": "ipython3",
   "version": "3.8.8"
  }
 },
 "nbformat": 4,
 "nbformat_minor": 5
}
